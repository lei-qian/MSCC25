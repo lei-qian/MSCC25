{
 "cells": [
  {
   "cell_type": "markdown",
   "metadata": {},
   "source": [
    "# Linear Regression"
   ]
  },
  {
   "cell_type": "markdown",
   "metadata": {},
   "source": [
    "Created by Dr. Lei Qian, Meharry Medical College"
   ]
  },
  {
   "cell_type": "markdown",
   "metadata": {},
   "source": [
    "### Simple Linear Regression"
   ]
  },
  {
   "cell_type": "markdown",
   "metadata": {},
   "source": [
    "### Read data from CSV file\n",
    "\n",
    "The first step is to get data from a file. The most common format of data files is CSV files. CSV is a simple file format used to store tabular data, such as a spreadsheet. CSV files are text files. The fields of data in each row are delimited with a comma, space or tab ('\\t') and individual rows are separated by a newline. There are many programs in Python that can read CSV files. Here we use read_csv function in Pandas package to do so. \n",
    "\n",
    "Pandas is a data processing and analysis tools for the Python programming language, which is often used with Numpy."
   ]
  },
  {
   "cell_type": "code",
   "execution_count": 1,
   "metadata": {},
   "outputs": [],
   "source": [
    "import numpy as np\n",
    "import pandas as pd\n",
    "import matplotlib.pyplot as plt"
   ]
  },
  {
   "cell_type": "code",
   "execution_count": 2,
   "metadata": {},
   "outputs": [],
   "source": [
    "#?pd.read_csv"
   ]
  },
  {
   "cell_type": "markdown",
   "metadata": {},
   "source": [
    "slr01.csv contains the data of list price vs best price for a new GMC pickup. \n",
    "\n",
    "* X = List price (in \\$1000)\n",
    "* Y = Best price (in \\$1000) \n",
    "\n",
    "The description for datasets and more data can be found [here](https://college.cengage.com/mathematics/brase/understandable_statistics/7e/students/datasets/slr/frames/frame.html)"
   ]
  },
  {
   "cell_type": "code",
   "execution_count": 3,
   "metadata": {},
   "outputs": [
    {
     "data": {
      "application/vnd.microsoft.datawrangler.viewer.v0+json": {
       "columns": [
        {
         "name": "index",
         "rawType": "int64",
         "type": "integer"
        },
        {
         "name": "X",
         "rawType": "float64",
         "type": "float"
        },
        {
         "name": "Y",
         "rawType": "float64",
         "type": "float"
        }
       ],
       "ref": "b1eda4fb-3665-4ff6-b718-b71e97267bb5",
       "rows": [
        [
         "0",
         "0.170000002",
         "0.629999995"
        ],
        [
         "1",
         "0.189999998",
         "0.699999988"
        ],
        [
         "2",
         "0.219999999",
         "0.819999993"
        ],
        [
         "3",
         "0.234999999",
         "0.879999995"
        ],
        [
         "4",
         "0.234999999",
         "1.149999976"
        ]
       ],
       "shape": {
        "columns": 2,
        "rows": 5
       }
      },
      "text/html": [
       "<div>\n",
       "<style scoped>\n",
       "    .dataframe tbody tr th:only-of-type {\n",
       "        vertical-align: middle;\n",
       "    }\n",
       "\n",
       "    .dataframe tbody tr th {\n",
       "        vertical-align: top;\n",
       "    }\n",
       "\n",
       "    .dataframe thead th {\n",
       "        text-align: right;\n",
       "    }\n",
       "</style>\n",
       "<table border=\"1\" class=\"dataframe\">\n",
       "  <thead>\n",
       "    <tr style=\"text-align: right;\">\n",
       "      <th></th>\n",
       "      <th>X</th>\n",
       "      <th>Y</th>\n",
       "    </tr>\n",
       "  </thead>\n",
       "  <tbody>\n",
       "    <tr>\n",
       "      <th>0</th>\n",
       "      <td>0.170</td>\n",
       "      <td>0.63</td>\n",
       "    </tr>\n",
       "    <tr>\n",
       "      <th>1</th>\n",
       "      <td>0.190</td>\n",
       "      <td>0.70</td>\n",
       "    </tr>\n",
       "    <tr>\n",
       "      <th>2</th>\n",
       "      <td>0.220</td>\n",
       "      <td>0.82</td>\n",
       "    </tr>\n",
       "    <tr>\n",
       "      <th>3</th>\n",
       "      <td>0.235</td>\n",
       "      <td>0.88</td>\n",
       "    </tr>\n",
       "    <tr>\n",
       "      <th>4</th>\n",
       "      <td>0.235</td>\n",
       "      <td>1.15</td>\n",
       "    </tr>\n",
       "  </tbody>\n",
       "</table>\n",
       "</div>"
      ],
      "text/plain": [
       "       X     Y\n",
       "0  0.170  0.63\n",
       "1  0.190  0.70\n",
       "2  0.220  0.82\n",
       "3  0.235  0.88\n",
       "4  0.235  1.15"
      ]
     },
     "execution_count": 3,
     "metadata": {},
     "output_type": "execute_result"
    }
   ],
   "source": [
    "url = 'https://raw.githubusercontent.com/lei-qian/NDSAWS24/refs/heads/main/Notebooks/data/slr03.csv'\n",
    "#df = pd.read_csv(url)\n",
    "df = pd.read_csv(url, sep=',', header=0, skiprows=2)\n",
    "df.head() #show the first few records"
   ]
  },
  {
   "cell_type": "markdown",
   "metadata": {},
   "source": [
    "Pandas read the data files and save them in a data type called \"DataFrame\". It needs to be converted to numpy array so that we can use it in Numpy.  "
   ]
  },
  {
   "cell_type": "code",
   "execution_count": 4,
   "metadata": {},
   "outputs": [
    {
     "name": "stdout",
     "output_type": "stream",
     "text": [
      "(9, 2)\n",
      "[[ 0.17        0.63      ]\n",
      " [ 0.19        0.69999999]\n",
      " [ 0.22        0.81999999]\n",
      " [ 0.235       0.88      ]\n",
      " [ 0.235       1.14999998]\n",
      " [ 0.30000001  1.5       ]\n",
      " [ 0.34999999  4.4000001 ]\n",
      " [ 0.41999999  7.30000019]\n",
      " [ 0.85000002 11.30000019]]\n"
     ]
    }
   ],
   "source": [
    "data = df.values\n",
    "print(data.shape)\n",
    "print(data) #print the first 5 records of the dataset"
   ]
  },
  {
   "cell_type": "markdown",
   "metadata": {},
   "source": [
    "Now we use the formula in the class to perform linear regression. Remember the following formulas:\n",
    "\n",
    "* $s_{xy} = \\frac{\\Sigma_{i=1}^n (x_i-\\overline{x})(y_i-\\overline{y})}{n}$. The covariance of X and Y.\n",
    "* $s_x^2 = \\frac{\\Sigma_{i=1}^n (x_i-\\overline{x})^2}{n}$. The variance of X. \n",
    "* $b_1=\\frac{s_{xy}}{s_x^2}$. Slope\n",
    "* $b_0=\\overline{y}-b_1\\overline{x}$. y-intercept"
   ]
  },
  {
   "cell_type": "code",
   "execution_count": 5,
   "metadata": {},
   "outputs": [
    {
     "name": "stdout",
     "output_type": "stream",
     "text": [
      "(9,)\n",
      "[0.17       0.19       0.22       0.235      0.235      0.30000001\n",
      " 0.34999999 0.41999999 0.85000002]\n",
      "[[ 0.04439375  0.76176878]\n",
      " [ 0.76176878 14.35657564]]\n",
      "9\n"
     ]
    }
   ],
   "source": [
    "X = data[:, 0]\n",
    "Y = data[:, 1]\n",
    "print(X.shape)\n",
    "print(X)\n",
    "n = data.shape[0]\n",
    "covm = np.cov(X, Y) #calculate covarance between X and Y\n",
    "print(covm)\n",
    "print(n)"
   ]
  },
  {
   "cell_type": "markdown",
   "metadata": {},
   "source": [
    "**np.cov(X, Y)** function calculates covariance between X and Y. In this case, we get a 2X2 matrix. They are cov(X,X) (which is indeed $s_x^2$, the variance of X), cov(X,Y), cov(Y,X) (which is equal to cov(X,Y)) and cov(Y,Y). "
   ]
  },
  {
   "cell_type": "code",
   "execution_count": 6,
   "metadata": {},
   "outputs": [],
   "source": [
    "sxy = covm[0,1] #covariance of X and Y\n",
    "sx2 = covm[0,0] #variance of X \n",
    "sy2 = covm[1,1] #variance of Y"
   ]
  },
  {
   "cell_type": "code",
   "execution_count": 7,
   "metadata": {},
   "outputs": [
    {
     "data": {
      "text/plain": [
       "17.159368896513726"
      ]
     },
     "execution_count": 7,
     "metadata": {},
     "output_type": "execute_result"
    }
   ],
   "source": [
    "b1 = sxy/sx2\n",
    "b1"
   ]
  },
  {
   "cell_type": "code",
   "execution_count": 8,
   "metadata": {},
   "outputs": [],
   "source": [
    "xbar = X.mean() #mean function calculate the average of an array\n",
    "ybar = Y.mean()"
   ]
  },
  {
   "cell_type": "code",
   "execution_count": 9,
   "metadata": {},
   "outputs": [],
   "source": [
    "b0 = ybar - b1*xbar"
   ]
  },
  {
   "cell_type": "code",
   "execution_count": 10,
   "metadata": {},
   "outputs": [
    {
     "name": "stdout",
     "output_type": "stream",
     "text": [
      "slope= 17.159368896513726\n",
      "interception= -2.4759250488752143\n"
     ]
    }
   ],
   "source": [
    "print(\"slope=\",b1)\n",
    "print(\"interception=\", b0)"
   ]
  },
  {
   "cell_type": "code",
   "execution_count": 11,
   "metadata": {},
   "outputs": [
    {
     "name": "stdout",
     "output_type": "stream",
     "text": [
      "r= 0.9541942798645503\n",
      "sse= 11.56593709489055\n",
      "se= 1.133624330038177\n"
     ]
    }
   ],
   "source": [
    "r = sxy/np.sqrt(sx2*sy2)\n",
    "sse = n*(sy2 - sxy*sxy/sx2)\n",
    "se = np.sqrt(sse/n)\n",
    "print(\"r=\",r)\n",
    "print(\"sse=\", sse)\n",
    "print(\"se=\", se)"
   ]
  },
  {
   "cell_type": "markdown",
   "metadata": {},
   "source": [
    "Now we draw the data through matplotlib"
   ]
  },
  {
   "cell_type": "code",
   "execution_count": 12,
   "metadata": {},
   "outputs": [],
   "source": [
    "def plotSLR(X, Y, b0, b1):\n",
    "#plot points in X, Y and draw a line with slop b1 and interception b0\n",
    "    x0 = X.min()-0.1\n",
    "    x1 = X.max()+0.1\n",
    "\n",
    "    plt.plot(X, Y, 'ko')\n",
    "    plt.plot((x0, x1), (x0*b1+b0, x1*b1+b0), \"b-\")\n",
    "    plt.show()"
   ]
  },
  {
   "cell_type": "code",
   "execution_count": 13,
   "metadata": {},
   "outputs": [
    {
     "data": {
      "image/png": "[encoded data removed]",
      "text/plain": [
       "<Figure size 640x480 with 1 Axes>"
      ]
     },
     "metadata": {},
     "output_type": "display_data"
    }
   ],
   "source": [
    "plotSLR(X, Y, b0, b1)"
   ]
  },
  {
   "cell_type": "markdown",
   "metadata": {},
   "source": [
    "### Solve Linear Equation through *lineregress* function"
   ]
  },
  {
   "cell_type": "markdown",
   "metadata": {},
   "source": [
    "scipy.stats package has a function linregress function that can do simple linear regression conveniently."
   ]
  },
  {
   "cell_type": "code",
   "execution_count": 14,
   "metadata": {},
   "outputs": [],
   "source": [
    "from scipy.stats import linregress"
   ]
  },
  {
   "cell_type": "code",
   "execution_count": 15,
   "metadata": {},
   "outputs": [
    {
     "name": "stdout",
     "output_type": "stream",
     "text": [
      "slope= 17.159368896513726\n",
      "interception= -2.4759250488752143\n",
      "r= 0.9541942798645503\n"
     ]
    }
   ],
   "source": [
    "(b1, b0, r, p, stderr) = linregress(X,Y)\n",
    "print(\"slope=\",b1)\n",
    "print(\"interception=\", b0)\n",
    "print(\"r=\", r)"
   ]
  },
  {
   "cell_type": "markdown",
   "metadata": {},
   "source": [
    "## Multiple Linear Regression"
   ]
  },
  {
   "cell_type": "markdown",
   "metadata": {},
   "source": [
    "### Read a multiple linear regression data set"
   ]
  },
  {
   "cell_type": "markdown",
   "metadata": {},
   "source": [
    "mlr01.csv is a dataset of Thunder Basin antelope study. The data (X1, X2, X3, X4) are for each year:\n",
    "\n",
    "* X1 = spring fawn count/100\n",
    "* X2 = size of adult antelope population/100\n",
    "* X3 = annual precipitation (inches)\n",
    "* X4 = winter severity index (1=mild, 5=severe)\n",
    "\n",
    "Dataset description can be found [here](https://college.cengage.com/mathematics/brase/understandable_statistics/7e/students/datasets/mlr/frames/frame.html)"
   ]
  },
  {
   "cell_type": "code",
   "execution_count": 16,
   "metadata": {},
   "outputs": [
    {
     "data": {
      "application/vnd.microsoft.datawrangler.viewer.v0+json": {
       "columns": [
        {
         "name": "index",
         "rawType": "int64",
         "type": "integer"
        },
        {
         "name": "X1",
         "rawType": "float64",
         "type": "float"
        },
        {
         "name": "X2",
         "rawType": "float64",
         "type": "float"
        },
        {
         "name": "X3",
         "rawType": "float64",
         "type": "float"
        },
        {
         "name": "X4",
         "rawType": "int64",
         "type": "integer"
        }
       ],
       "ref": "52031cf4-1786-4a44-8057-76d05b7aeeb6",
       "rows": [
        [
         "0",
         "2.900000095",
         "9.199999809",
         "13.19999981",
         "2"
        ],
        [
         "1",
         "2.400000095",
         "8.699999809",
         "11.5",
         "3"
        ],
        [
         "2",
         "2.0",
         "7.199999809",
         "10.80000019",
         "4"
        ],
        [
         "3",
         "2.299999952",
         "8.5",
         "12.30000019",
         "2"
        ],
        [
         "4",
         "3.200000048",
         "9.6",
         "12.60000038",
         "3"
        ]
       ],
       "shape": {
        "columns": 4,
        "rows": 5
       }
      },
      "text/html": [
       "<div>\n",
       "<style scoped>\n",
       "    .dataframe tbody tr th:only-of-type {\n",
       "        vertical-align: middle;\n",
       "    }\n",
       "\n",
       "    .dataframe tbody tr th {\n",
       "        vertical-align: top;\n",
       "    }\n",
       "\n",
       "    .dataframe thead th {\n",
       "        text-align: right;\n",
       "    }\n",
       "</style>\n",
       "<table border=\"1\" class=\"dataframe\">\n",
       "  <thead>\n",
       "    <tr style=\"text-align: right;\">\n",
       "      <th></th>\n",
       "      <th>X1</th>\n",
       "      <th>X2</th>\n",
       "      <th>X3</th>\n",
       "      <th>X4</th>\n",
       "    </tr>\n",
       "  </thead>\n",
       "  <tbody>\n",
       "    <tr>\n",
       "      <th>0</th>\n",
       "      <td>2.9</td>\n",
       "      <td>9.2</td>\n",
       "      <td>13.2</td>\n",
       "      <td>2</td>\n",
       "    </tr>\n",
       "    <tr>\n",
       "      <th>1</th>\n",
       "      <td>2.4</td>\n",
       "      <td>8.7</td>\n",
       "      <td>11.5</td>\n",
       "      <td>3</td>\n",
       "    </tr>\n",
       "    <tr>\n",
       "      <th>2</th>\n",
       "      <td>2.0</td>\n",
       "      <td>7.2</td>\n",
       "      <td>10.8</td>\n",
       "      <td>4</td>\n",
       "    </tr>\n",
       "    <tr>\n",
       "      <th>3</th>\n",
       "      <td>2.3</td>\n",
       "      <td>8.5</td>\n",
       "      <td>12.3</td>\n",
       "      <td>2</td>\n",
       "    </tr>\n",
       "    <tr>\n",
       "      <th>4</th>\n",
       "      <td>3.2</td>\n",
       "      <td>9.6</td>\n",
       "      <td>12.6</td>\n",
       "      <td>3</td>\n",
       "    </tr>\n",
       "  </tbody>\n",
       "</table>\n",
       "</div>"
      ],
      "text/plain": [
       "    X1   X2    X3  X4\n",
       "0  2.9  9.2  13.2   2\n",
       "1  2.4  8.7  11.5   3\n",
       "2  2.0  7.2  10.8   4\n",
       "3  2.3  8.5  12.3   2\n",
       "4  3.2  9.6  12.6   3"
      ]
     },
     "execution_count": 16,
     "metadata": {},
     "output_type": "execute_result"
    }
   ],
   "source": [
    "url = 'https://raw.githubusercontent.com/lei-qian/NDSAWS24/refs/heads/main/Notebooks/data/mlr01.csv'\n",
    "df = pd.read_csv(url)\n",
    "#df = pd.read_excel(\"data/mlr02.xls\")\n",
    "df.head()"
   ]
  },
  {
   "cell_type": "code",
   "execution_count": 17,
   "metadata": {},
   "outputs": [
    {
     "name": "stdout",
     "output_type": "stream",
     "text": [
      "3 8\n"
     ]
    }
   ],
   "source": [
    "data=df.values\n",
    "X=data[:, 1:]\n",
    "Y=data[:,0]\n",
    "n, m = X.shape\n",
    "print(m,n)"
   ]
  },
  {
   "cell_type": "code",
   "execution_count": 18,
   "metadata": {},
   "outputs": [
    {
     "name": "stdout",
     "output_type": "stream",
     "text": [
      "[[ 1.          9.19999981 13.19999981  2.        ]\n",
      " [ 1.          8.69999981 11.5         3.        ]\n",
      " [ 1.          7.19999981 10.80000019  4.        ]\n",
      " [ 1.          8.5        12.30000019  2.        ]\n",
      " [ 1.          9.6        12.60000038  3.        ]\n",
      " [ 1.          6.80000019 10.60000038  5.        ]\n",
      " [ 1.          9.69999981 14.10000038  1.        ]\n",
      " [ 1.          7.9000001  11.19999981  3.        ]]\n"
     ]
    }
   ],
   "source": [
    "#insert a column of constant 1  \n",
    "X1 = np.hstack((np.ones((n,1)), X))\n",
    "print(X1)"
   ]
  },
  {
   "cell_type": "code",
   "execution_count": 19,
   "metadata": {},
   "outputs": [
    {
     "name": "stdout",
     "output_type": "stream",
     "text": [
      "[-5.92201143  0.33821753  0.40150391  0.26294607]\n"
     ]
    }
   ],
   "source": [
    "b = np.linalg.inv(X1.T@X1)@X1.T@Y\n",
    "print(b)"
   ]
  },
  {
   "cell_type": "code",
   "execution_count": 20,
   "metadata": {},
   "outputs": [],
   "source": [
    "Yhat = X1@b\n",
    "E = Y-Yhat\n",
    "sse = E.T@E\n",
    "sst = Y.var()*n\n",
    "r2 = 1-sse/sst"
   ]
  },
  {
   "cell_type": "code",
   "execution_count": 21,
   "metadata": {},
   "outputs": [
    {
     "name": "stdout",
     "output_type": "stream",
     "text": [
      "sse= 0.0584938941505828\n",
      "sst= 2.275000410900039\n",
      "r2 = 0.9742884028194785\n",
      "r= 0.98706048589713\n"
     ]
    }
   ],
   "source": [
    "print(\"sse=\",sse)\n",
    "print(\"sst=\",sst)\n",
    "print(\"r2 =\",r2)\n",
    "print(\"r=\",np.sqrt(r2))"
   ]
  },
  {
   "cell_type": "markdown",
   "metadata": {},
   "source": [
    "Scikit Learng package has a linear_model that can perform multiple linear regression. "
   ]
  },
  {
   "cell_type": "code",
   "execution_count": 22,
   "metadata": {},
   "outputs": [
    {
     "name": "stdout",
     "output_type": "stream",
     "text": [
      "Coefficient =  [0.33821753 0.40150391 0.26294607]\n",
      "Intercept =  -5.92201143088417\n",
      "R square =  0.9742884028194786\n"
     ]
    }
   ],
   "source": [
    "from sklearn import linear_model\n",
    "model = linear_model.LinearRegression()\n",
    "model.fit(X, Y)\n",
    "print(\"Coefficient = \", model.coef_)\n",
    "print(\"Intercept = \", model.intercept_)\n",
    "print(\"R square = \", model.score(X, Y))"
   ]
  },
  {
   "cell_type": "markdown",
   "metadata": {},
   "source": [
    "**Exercises** Use the same method to train linear regression models on slr02, mlr01. You have to use proper *sep*, *header*, *skiprows* etc to handle the data properly.\n",
    "\n",
    "If there are more time, apply the model to slr03, slr04, mlr03, and mlr04."
   ]
  },
  {
   "cell_type": "markdown",
   "metadata": {},
   "source": []
  }
 ],
 "metadata": {
  "kernelspec": {
   "display_name": "py312",
   "language": "python",
   "name": "python3"
  },
  "language_info": {
   "codemirror_mode": {
    "name": "ipython",
    "version": 3
   },
   "file_extension": ".py",
   "mimetype": "text/x-python",
   "name": "python",
   "nbconvert_exporter": "python",
   "pygments_lexer": "ipython3",
   "version": "3.12.8"
  }
 },
 "nbformat": 4,
 "nbformat_minor": 2
}
